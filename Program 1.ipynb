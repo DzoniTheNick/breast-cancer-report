{
 "cells": [
  {
   "cell_type": "code",
   "execution_count": 55,
   "id": "ee0d22cc",
   "metadata": {},
   "outputs": [],
   "source": [
    "import pandas as pd\n",
    "\n",
    "from sklearn.svm import SVC\n",
    "from sklearn.linear_model import LogisticRegression\n",
    "from sklearn.tree import DecisionTreeClassifier\n",
    "\n",
    "from sklearn.model_selection import GridSearchCV\n",
    "from sklearn.model_selection import StratifiedKFold\n",
    "\n",
    "from sklearn import metrics\n",
    "import matplotlib.pyplot as plt\n",
    "import seaborn as sebrn\n",
    "import matplotlib.pyplot as atlas\n",
    "\n",
    "from statistics import mean, stdev\n",
    "from scipy import stats\n",
    "\n",
    "classifier_names = ['SVC', 'MLR', 'DT']\n",
    "cancer_labels = ['Luminal B', 'Luminal A', 'Normal-like', 'Basal-like', 'HER2+']\n",
    "parameter_labels = ['Accuracy', 'Recall', 'Precission', 'F1 Score']"
   ]
  },
  {
   "cell_type": "code",
   "execution_count": 2,
   "id": "340bd89a",
   "metadata": {},
   "outputs": [],
   "source": [
    "# The following functions are meant to help us when it comes to reporting the results of each model"
   ]
  },
  {
   "cell_type": "code",
   "execution_count": 3,
   "id": "e6c54da1",
   "metadata": {},
   "outputs": [],
   "source": [
    "def OverallAccuracyReport(model_accuracy):\n",
    "    return str(round(mean(model_accuracy), 2)) + ' +/- ' + str(round(stdev(model_accuracy), 2))"
   ]
  },
  {
   "cell_type": "code",
   "execution_count": 4,
   "id": "aecb7b5c",
   "metadata": {},
   "outputs": [],
   "source": [
    "def ConfusionMatrixConstructor(matrix):\n",
    "    fx = sebrn.heatmap(matrix, annot=True, cmap='turbo', xticklabels='auto', yticklabels='auto', linewidths=4, linecolor='white', cbar=False)\n",
    "    fx.set_title('Confusion Matrix\\n');\n",
    "    fx.set_xlabel('\\nPredicted Values')\n",
    "    fx.set_ylabel('Actual Values\\n');\n",
    "    fx.xaxis.set_ticklabels(cancer_labels)\n",
    "    fx.yaxis.set_ticklabels(cancer_labels)\n",
    "    fx.set_yticklabels(fx.get_yticklabels(),rotation = 0)\n",
    "    atlas.show()"
   ]
  },
  {
   "cell_type": "code",
   "execution_count": 5,
   "id": "5f0d103b",
   "metadata": {},
   "outputs": [],
   "source": [
    "def ReportForOneClass(matrix, class_index):\n",
    "    i = 0\n",
    "    j = 0\n",
    "    \n",
    "    tp = 0\n",
    "    fp = 0\n",
    "    tn = 0\n",
    "    fn = 0\n",
    "    \n",
    "    for row in matrix:\n",
    "        for element in row:\n",
    "            if(i == class_index and j == class_index):\n",
    "                tp += element\n",
    "            \n",
    "            if(i == class_index and j != class_index):\n",
    "                fp += element\n",
    "                \n",
    "            if(i != class_index and j == class_index):\n",
    "                fn += element\n",
    "            \n",
    "            if(i != class_index and j != class_index):\n",
    "                tn += element\n",
    "                \n",
    "            j+=1\n",
    "        \n",
    "        j = 0\n",
    "        i+=1\n",
    "    \n",
    "    total_predictions = tp + fp + tn + fn\n",
    "    accuracy = round(((tp + tn) / total_predictions), 2)\n",
    "    \n",
    "    if( (tp + fn) != 0):\n",
    "        recall = round((tp / (tp + fn)), 2)\n",
    "    else:\n",
    "        recall = tp\n",
    "        \n",
    "    if( (tp + fp) != 0):\n",
    "        precision = round((tp / (tp + fp)), 2)\n",
    "    else:\n",
    "        precision = tp\n",
    "    \n",
    "    if ((recall + precision) != 0):\n",
    "        f_measure = round(((2*recall*precision) / (recall + precision)), 2)\n",
    "    else:\n",
    "        f_measure = 2*recall*precision\n",
    "        \n",
    "    return [float(accuracy), float(precision), float(recall), float(f_measure)]"
   ]
  },
  {
   "cell_type": "code",
   "execution_count": 6,
   "id": "cecc69b7",
   "metadata": {},
   "outputs": [],
   "source": [
    "def ConfusionMatrixReport(matrix):\n",
    "    upper_limit = matrix.shape[0]\n",
    "    result = []\n",
    "    for i in range(0, upper_limit):\n",
    "        result.append(ReportForOneClass(matrix, i))\n",
    "        \n",
    "    return result"
   ]
  },
  {
   "cell_type": "code",
   "execution_count": 7,
   "id": "bf9df81f",
   "metadata": {},
   "outputs": [],
   "source": [
    "def ReportGenerator(model_name, model_cm, model_readable_data, model_accuracy):\n",
    "    print('Results for the ' + model_name + ' model:\\n')\n",
    "    print('\\tModel Confusion Matrix:\\n')\n",
    "    ConfusionMatrixConstructor(model_cm)\n",
    "    print('\\tModel Classification Report:\\n')\n",
    "    result = ConfusionMatrixReport(model_cm)\n",
    "    ReportConstructor(model_readable_data, model_accuracy)"
   ]
  },
  {
   "cell_type": "code",
   "execution_count": 8,
   "id": "a4897236",
   "metadata": {},
   "outputs": [],
   "source": [
    "# This function retrieves a value of wanted parameter of a wanted class\n",
    "def ValueRetrival(model_report ,class_index, parameter_index):\n",
    "    values = []\n",
    "    for matrix_report in model_report:\n",
    "        class_report = matrix_report[class_index]\n",
    "        parameter_value = class_report[parameter_index]\n",
    "        values.append(parameter_value)\n",
    "        \n",
    "    return values;"
   ]
  },
  {
   "cell_type": "code",
   "execution_count": 9,
   "id": "57d8c6a4",
   "metadata": {},
   "outputs": [],
   "source": [
    "def ReportConverter(model_report):\n",
    "    converter_report = []\n",
    "    \n",
    "    for matrix_report in model_report:\n",
    "        class_index = 0\n",
    "        for class_report in matrix_report:\n",
    "            class_values = []\n",
    "            parameter_index = 0\n",
    "            for parameter_value in class_report:\n",
    "                class_values.append(ValueRetrival(model_report, class_index, parameter_index))\n",
    "                parameter_index += 1\n",
    "            \n",
    "            converter_report.append(class_values)\n",
    "            class_index += 1\n",
    "            \n",
    "        break\n",
    "            \n",
    "    return converter_report   "
   ]
  },
  {
   "cell_type": "code",
   "execution_count": 10,
   "id": "cac7bae3",
   "metadata": {},
   "outputs": [],
   "source": [
    "def MeanAndStDevCalculator(converted_report, class_index, parameter_index):\n",
    "    mean_result = round(mean((converted_report[class_index])[parameter_index]), 2)\n",
    "    stdev_result = round(stdev((converted_report[class_index])[parameter_index]), 2)\n",
    "    return mean_result, stdev_result"
   ]
  },
  {
   "cell_type": "code",
   "execution_count": 11,
   "id": "881e66b6",
   "metadata": {},
   "outputs": [],
   "source": [
    "def ReportConverterToReadable(converted_report):\n",
    "    report_txt_result = []\n",
    "    class_text_result = []\n",
    "    result = 0\n",
    "    \n",
    "    class_index = 0\n",
    "    for report_class in converted_report:\n",
    "        parameter_index = 0\n",
    "        class_text_result = []\n",
    "        for class_parameter in report_class:\n",
    "            result = MeanAndStDevCalculator(converted_report, class_index, parameter_index)\n",
    "            class_text_result.append(str(result[0]) + ' +/- ' + str(result[1]))\n",
    "            parameter_index += 1\n",
    "            \n",
    "        report_txt_result.append(class_text_result)\n",
    "        class_index += 1\n",
    "        \n",
    "    return report_txt_result"
   ]
  },
  {
   "cell_type": "code",
   "execution_count": 12,
   "id": "6f1f6667",
   "metadata": {},
   "outputs": [],
   "source": [
    "def ReportConstructor(readable_clf_data, clf_accuracy):\n",
    "    df1 = pd.DataFrame(ReportConverterToReadable(readable_clf_data),\n",
    "                      index=pd.Index(cancer_labels),\n",
    "                     columns = parameter_labels)\n",
    "    df2 = pd.DataFrame([[OverallAccuracyReport(clf_accuracy)]], index = pd.Index(['Overall Model Accuracy: ']), columns = [''])\n",
    "    print(df1)\n",
    "    print(df2)"
   ]
  },
  {
   "cell_type": "code",
   "execution_count": 94,
   "id": "edf98df9",
   "metadata": {},
   "outputs": [],
   "source": [
    "def HypothesisTest(a_valuse, b_valuse, name_of_comparison, first_alg_name, second_alg_name, parameter_index, class_index):\n",
    "    T_statistic, p_value = stats.ttest_ind(a_valuse, b_valuse, equal_var = False)\n",
    "    \n",
    "    if(p_value < 0.05):\n",
    "        better_model = first_alg_name\n",
    "       \n",
    "    else:\n",
    "        better_model = second_alg_name\n",
    "        \n",
    "    result = [parameter_labels[parameter_index], cancer_labels[class_index], p_value, T_statistic, better_model]\n",
    "    \n",
    "    return result"
   ]
  },
  {
   "cell_type": "code",
   "execution_count": 108,
   "id": "01db7add",
   "metadata": {},
   "outputs": [],
   "source": [
    "def ModelPerformanceComparison(first_alg_metrics, first_alg_name, second_alg_metrics, second_alg_name):\n",
    "    \n",
    "    print('Comparing ' + first_alg_name + ' and ' + second_alg_name + ':\\n')\n",
    "    \n",
    "    values = []\n",
    "    \n",
    "    class_index = 0 \n",
    "    for cancer_name in cancer_labels:\n",
    "        parameter_index = 0\n",
    "        for parameter_name in parameter_labels:\n",
    "            string = parameter_name + ' for ' + cancer_name \n",
    "            values.append(HypothesisTest(first_alg_metrics[class_index][parameter_index], \n",
    "                                         second_alg_metrics[class_index][parameter_index], \n",
    "                                         string, first_alg_name, second_alg_name, parameter_index, class_index))\n",
    "    \n",
    "            parameter_index += 1\n",
    "\n",
    "        class_index += 1\n",
    "                          \n",
    "\n",
    "    \n",
    "    df = pd.DataFrame(values, columns = ['Parameters', 'Cancer Type', 'P value', 'T Statistics', 'Best Performing Model'])\n",
    "    print(df)"
   ]
  },
  {
   "cell_type": "code",
   "execution_count": 43,
   "id": "3bbefe9d",
   "metadata": {},
   "outputs": [],
   "source": [
    "# The following lines are the actual code for the program"
   ]
  },
  {
   "cell_type": "code",
   "execution_count": 44,
   "id": "c0ea8f94",
   "metadata": {},
   "outputs": [],
   "source": [
    "# In this part of the program we will read the data and separate it into two variables (X - protein readings, Y - labeled cancer type) \n",
    "\n",
    "dataset = pd.read_csv('breast_cancer_genomic.csv')\n",
    "dataset.pop('CLID')\n",
    "\n",
    "y = dataset['Class'].values\n",
    "dataset.pop('Class')\n",
    "x = dataset.values"
   ]
  },
  {
   "cell_type": "code",
   "execution_count": 45,
   "id": "e961a090",
   "metadata": {},
   "outputs": [],
   "source": [
    "# Here we will call on the required machine learning models.\n",
    "# Also, we will initialize three arrays, each of which contain possible parameter values of the aformentioned models\n",
    "\n",
    "clf_svc = SVC()\n",
    "clf_mlr = LogisticRegression(multi_class='multinomial', solver='newton-cg', penalty='l2')\n",
    "clf_dt = DecisionTreeClassifier()\n",
    "\n",
    "clf_svc_params = [{'kernel': ['linear', 'rbf', 'poly'], 'gamma': [0.001 ,0.01 ,0.1, 1, 10, 100], 'C': [0.001 ,0.01  ,0.1, 1, 10, 100, 1000]}]\n",
    "clf_mlr_params = [{'C': [1e-03 ,1e-02 ,1e-01, 1, 10, 100], 'tol': [1e-07 ,1e-06 ,1e-05, 1e-04, 1e-03, 1e-02]}]\n",
    "clf_dt_params = [{'max_features': [160, 161, 162, 163, 164, 165, 166, 167, 168, 169, 170] , 'max_depth': [1, 2, 3, 4, 5, 6, 7, 8, 9, 10, 11, 12, 13, 14, 15, 16, 17, 18, 19, 20]}]"
   ]
  },
  {
   "cell_type": "code",
   "execution_count": 18,
   "id": "24e943e7",
   "metadata": {},
   "outputs": [],
   "source": [
    "# The following 3 GridSeacrhCV instances are used in order to find the best values for our models parameters."
   ]
  },
  {
   "cell_type": "code",
   "execution_count": 19,
   "id": "f922df25",
   "metadata": {},
   "outputs": [
    {
     "name": "stdout",
     "output_type": "stream",
     "text": [
      "The best parameters for the Support Vector Classifier Model are:\n",
      "{'C': 10, 'gamma': 0.001, 'kernel': 'rbf'}\n"
     ]
    }
   ],
   "source": [
    "# GridSearchCV for the Support Vector Classifier Model\n",
    "\n",
    "grid_search_svc = GridSearchCV(estimator=clf_svc, param_grid=clf_svc_params, scoring='accuracy', cv=10)\n",
    "grid_result_svc = grid_search_svc.fit(x, y)\n",
    "print('The best parameters for the Support Vector Classifier Model are:')\n",
    "print(grid_result_svc.best_params_)"
   ]
  },
  {
   "cell_type": "code",
   "execution_count": 20,
   "id": "fb5b0df9",
   "metadata": {},
   "outputs": [
    {
     "name": "stdout",
     "output_type": "stream",
     "text": [
      "The best parameters for the Logistic Regression Model are:\n",
      "{'C': 0.1, 'tol': 1e-07}\n"
     ]
    }
   ],
   "source": [
    "# GridsearchCV for the Multinomial Logistic Regression Model\n",
    "\n",
    "grid_search_mlr = GridSearchCV(estimator=clf_mlr, param_grid=clf_mlr_params, scoring='accuracy', cv=10)\n",
    "grid_result_mlr = grid_search_mlr.fit(x, y)\n",
    "print('The best parameters for the Logistic Regression Model are:')\n",
    "print(grid_result_mlr.best_params_)"
   ]
  },
  {
   "cell_type": "code",
   "execution_count": 21,
   "id": "ec4a55ba",
   "metadata": {},
   "outputs": [
    {
     "name": "stdout",
     "output_type": "stream",
     "text": [
      "The best parameters for the Decision Tree Model are:\n",
      "{'max_depth': 19, 'max_features': 167}\n"
     ]
    }
   ],
   "source": [
    "# GridSearchCV for the Decision Tree Model\n",
    "\n",
    "grid_search_dt = GridSearchCV(estimator=clf_dt, param_grid=clf_dt_params, scoring='accuracy', cv=10)\n",
    "grid_result_dt = grid_search_dt.fit(x, y)\n",
    "print('The best parameters for the Decision Tree Model are:')\n",
    "print(grid_result_dt.best_params_)"
   ]
  },
  {
   "cell_type": "code",
   "execution_count": 22,
   "id": "26252e7b",
   "metadata": {},
   "outputs": [],
   "source": [
    "# This part of the program is used in order to train our models using the Stratified K-fold method (k = 10)\n",
    "# As we performe the training of each model we also recored the accuracy score and confusion matrix of the model\n",
    "\n",
    "skf = StratifiedKFold(n_splits=10, shuffle=True, random_state=1)\n",
    "\n",
    "svc_accuracy = []\n",
    "mlr_accuracy = []\n",
    "dt_accuracy = []\n",
    "\n",
    "svc_cm = 0\n",
    "mlr_cm = 0\n",
    "dt_cm = 0\n",
    "\n",
    "svc_cm_results = []\n",
    "mlr_cm_results = []\n",
    "dt_cm_results = []\n",
    "\n",
    "clf_svc_best = SVC(kernel = grid_result_svc.best_params_['kernel'], gamma = grid_result_svc.best_params_['gamma'], C = grid_result_svc.best_params_['C'])\n",
    "clf_mlr_best = LogisticRegression(multi_class='multinomial', solver='newton-cg', penalty='l2', C = grid_result_mlr.best_params_['C'], tol = grid_result_mlr.best_params_['tol'])\n",
    "clf_dt_best = DecisionTreeClassifier(max_depth = grid_result_dt.best_params_['max_depth'], max_features = grid_result_dt.best_params_['max_features'])\n",
    "\n",
    "for train_index, test_index in skf.split(x, y):\n",
    "    x_train_fold, x_test_fold = x[train_index], x[test_index]\n",
    "    y_train_fold, y_test_fold = y[train_index], y[test_index]\n",
    "\n",
    "    clf_svc.fit(x_train_fold, y_train_fold)\n",
    "    clf_mlr.fit(x_train_fold, y_train_fold)\n",
    "    clf_dt.fit(x_train_fold, y_train_fold)\n",
    "    \n",
    "    predicted_svc = clf_svc.predict(x_test_fold)\n",
    "    predicted_mlr = clf_mlr.predict(x_test_fold)\n",
    "    predicted_dt = clf_dt.predict(x_test_fold)\n",
    "    \n",
    "    svc_accuracy.append(clf_svc.score(x_test_fold, y_test_fold))\n",
    "    mlr_accuracy.append(clf_mlr.score(x_test_fold, y_test_fold))\n",
    "    dt_accuracy.append(clf_dt.score(x_test_fold, y_test_fold))\n",
    "    \n",
    "    svc_cm += metrics.confusion_matrix(y_test_fold, predicted_svc)\n",
    "    mlr_cm += metrics.confusion_matrix(y_test_fold, predicted_mlr)\n",
    "    dt_cm += metrics.confusion_matrix(y_test_fold, predicted_dt)\n",
    "    \n",
    "    # Adds a report of a confusion matrix for each iteration of the k-fold training session\n",
    "    svc_cm_results.append(ConfusionMatrixReport(metrics.confusion_matrix(y_test_fold, predicted_svc)))\n",
    "    mlr_cm_results.append(ConfusionMatrixReport(metrics.confusion_matrix(y_test_fold, predicted_mlr)))\n",
    "    dt_cm_results.append(ConfusionMatrixReport(metrics.confusion_matrix(y_test_fold, predicted_dt)))\n",
    "    \n",
    "avg_svc_cm_report = ReportConverter(svc_cm_results)\n",
    "avg_mlr_cm_report = ReportConverter(mlr_cm_results)\n",
    "avg_dt_cm_report = ReportConverter(dt_cm_results)"
   ]
  },
  {
   "cell_type": "code",
   "execution_count": 23,
   "id": "713e0874",
   "metadata": {},
   "outputs": [
    {
     "name": "stdout",
     "output_type": "stream",
     "text": [
      "Results for the Support Vector Classifier model:\n",
      "\n",
      "\tModel Confusion Matrix:\n",
      "\n"
     ]
    },
    {
     "data": {
      "image/png": "[encoded data removed]",
      "text/plain": [
       "<Figure size 432x288 with 1 Axes>"
      ]
     },
     "metadata": {
      "needs_background": "light"
     },
     "output_type": "display_data"
    },
    {
     "name": "stdout",
     "output_type": "stream",
     "text": [
      "\tModel Classification Report:\n",
      "\n",
      "                  Accuracy         Recall     Precission       F1 Score\n",
      "Luminal B    0.96 +/- 0.03  0.83 +/- 0.19  0.96 +/- 0.08  0.88 +/- 0.12\n",
      "Luminal A    0.92 +/- 0.04  0.99 +/- 0.03  0.84 +/- 0.08  0.91 +/- 0.05\n",
      "Normal-like  0.94 +/- 0.03   0.3 +/- 0.35   0.45 +/- 0.5  0.35 +/- 0.39\n",
      "Basal-like   0.98 +/- 0.02  0.97 +/- 0.07  0.96 +/- 0.06  0.96 +/- 0.04\n",
      "HER2+        0.98 +/- 0.03  0.93 +/- 0.14  0.94 +/- 0.12  0.93 +/- 0.12\n",
      "                                      \n",
      "Overall Model Accuracy:   0.9 +/- 0.05\n"
     ]
    }
   ],
   "source": [
    "ReportGenerator('Support Vector Classifier', svc_cm, avg_svc_cm_report, svc_accuracy)"
   ]
  },
  {
   "cell_type": "code",
   "execution_count": 24,
   "id": "5bf752f8",
   "metadata": {},
   "outputs": [
    {
     "name": "stdout",
     "output_type": "stream",
     "text": [
      "Results for the Multinomial Logistic Regression model:\n",
      "\n",
      "\tModel Confusion Matrix:\n",
      "\n"
     ]
    },
    {
     "data": {
      "image/png": "[encoded data removed]",
      "text/plain": [
       "<Figure size 432x288 with 1 Axes>"
      ]
     },
     "metadata": {
      "needs_background": "light"
     },
     "output_type": "display_data"
    },
    {
     "name": "stdout",
     "output_type": "stream",
     "text": [
      "\tModel Classification Report:\n",
      "\n",
      "                  Accuracy         Recall     Precission       F1 Score\n",
      "Luminal B    0.97 +/- 0.03   0.9 +/- 0.15  0.96 +/- 0.08  0.92 +/- 0.09\n",
      "Luminal A    0.96 +/- 0.04  0.98 +/- 0.05  0.93 +/- 0.08  0.95 +/- 0.05\n",
      "Normal-like  0.97 +/- 0.03   0.7 +/- 0.42  0.77 +/- 0.42   0.71 +/- 0.4\n",
      "Basal-like   0.98 +/- 0.03  0.97 +/- 0.07  0.95 +/- 0.07  0.96 +/- 0.05\n",
      "HER2+        0.98 +/- 0.03  0.93 +/- 0.14  0.92 +/- 0.14  0.92 +/- 0.12\n",
      "                                       \n",
      "Overall Model Accuracy:   0.93 +/- 0.05\n"
     ]
    }
   ],
   "source": [
    "ReportGenerator('Multinomial Logistic Regression', mlr_cm, avg_mlr_cm_report, mlr_accuracy)"
   ]
  },
  {
   "cell_type": "code",
   "execution_count": 25,
   "id": "777fcf96",
   "metadata": {},
   "outputs": [
    {
     "name": "stdout",
     "output_type": "stream",
     "text": [
      "Results for the Decision Tree model:\n",
      "\n",
      "\tModel Confusion Matrix:\n",
      "\n"
     ]
    },
    {
     "data": {
      "image/png": "[encoded data removed]",
      "text/plain": [
       "<Figure size 432x288 with 1 Axes>"
      ]
     },
     "metadata": {
      "needs_background": "light"
     },
     "output_type": "display_data"
    },
    {
     "name": "stdout",
     "output_type": "stream",
     "text": [
      "\tModel Classification Report:\n",
      "\n",
      "                  Accuracy         Recall     Precission       F1 Score\n",
      "Luminal B    0.85 +/- 0.08  0.65 +/- 0.15  0.62 +/- 0.24  0.62 +/- 0.17\n",
      "Luminal A    0.81 +/- 0.09  0.69 +/- 0.12  0.78 +/- 0.15  0.73 +/- 0.12\n",
      "Normal-like  0.89 +/- 0.05   0.3 +/- 0.35  0.24 +/- 0.27   0.26 +/- 0.3\n",
      "Basal-like   0.92 +/- 0.02   0.84 +/- 0.1  0.84 +/- 0.07  0.84 +/- 0.05\n",
      "HER2+        0.91 +/- 0.05  0.63 +/- 0.25  0.67 +/- 0.26  0.62 +/- 0.19\n",
      "                                       \n",
      "Overall Model Accuracy:   0.69 +/- 0.09\n"
     ]
    }
   ],
   "source": [
    "ReportGenerator('Decision Tree', dt_cm, avg_dt_cm_report, dt_accuracy)"
   ]
  },
  {
   "cell_type": "code",
   "execution_count": 109,
   "id": "cfbbbbfc",
   "metadata": {
    "scrolled": false
   },
   "outputs": [
    {
     "name": "stdout",
     "output_type": "stream",
     "text": [
      "Comparing SVC and MLR:\n",
      "\n",
      "    Parameters  Cancer Type   P value  T Statistics Best Performing Model\n",
      "0     Accuracy    Luminal B  0.423953     -0.818182                   MLR\n",
      "1       Recall    Luminal B  0.433032     -0.802980                   MLR\n",
      "2   Precission    Luminal B  1.000000      0.000000                   MLR\n",
      "3     F1 Score    Luminal B  0.392681     -0.876820                   MLR\n",
      "4     Accuracy    Luminal A  0.037977     -2.248595                   SVC\n",
      "5       Recall    Luminal A  0.556565      0.600000                   MLR\n",
      "6   Precission    Luminal A  0.015392     -2.677832                   SVC\n",
      "7     F1 Score    Luminal A  0.046217     -2.144006                   SVC\n",
      "8     Accuracy  Normal-like  0.055685     -2.049390                   MLR\n",
      "9       Recall  Normal-like  0.033433     -2.309401                   SVC\n",
      "10  Precission  Normal-like  0.140373     -1.544554                   MLR\n",
      "11    F1 Score  Normal-like  0.054554     -2.056354                   MLR\n",
      "12    Accuracy   Basal-like  0.722502      0.361158                   MLR\n",
      "13      Recall   Basal-like  1.000000      0.000000                   MLR\n",
      "14  Precission   Basal-like  0.633415      0.485233                   MLR\n",
      "15    F1 Score   Basal-like  0.771508      0.295042                   MLR\n",
      "16    Accuracy        HER2+  0.754146      0.317999                   MLR\n",
      "17      Recall        HER2+  1.000000      0.000000                   MLR\n",
      "18  Precission        HER2+  0.671607      0.431027                   MLR\n",
      "19    F1 Score        HER2+  0.791953      0.267728                   MLR\n"
     ]
    }
   ],
   "source": [
    "ModelPerformanceComparison(avg_svc_cm_report, 'SVC', avg_mlr_cm_report,'MLR')"
   ]
  },
  {
   "cell_type": "code",
   "execution_count": 110,
   "id": "b6b007d8",
   "metadata": {
    "scrolled": false
   },
   "outputs": [
    {
     "name": "stdout",
     "output_type": "stream",
     "text": [
      "Comparing SVC and DT:\n",
      "\n",
      "    Parameters  Cancer Type   P value  T Statistics Best Performing Model\n",
      "0     Accuracy    Luminal B  0.001747      4.022870                   SVC\n",
      "1       Recall    Luminal B  0.024917      2.456979                   SVC\n",
      "2   Precission    Luminal B  0.001342      4.236781                   SVC\n",
      "3     F1 Score    Luminal B  0.001332      3.876370                   SVC\n",
      "4     Accuracy    Luminal A  0.003275      3.581772                   SVC\n",
      "5       Recall    Luminal A  0.000023      7.244860                   SVC\n",
      "6   Precission    Luminal A  0.271824      1.145286                    DT\n",
      "7     F1 Score    Luminal A  0.001221      4.192913                   SVC\n",
      "8     Accuracy  Normal-like  0.012332      2.867337                   SVC\n",
      "9       Recall  Normal-like  1.000000      0.000000                    DT\n",
      "10  Precission  Normal-like  0.255288      1.186141                    DT\n",
      "11    F1 Score  Normal-like  0.561203      0.592763                    DT\n",
      "12    Accuracy   Basal-like  0.000004      6.531973                   SVC\n",
      "13      Recall   Basal-like  0.006189      3.176588                   SVC\n",
      "14  Precission   Basal-like  0.000664      4.124257                   SVC\n",
      "15    F1 Score   Basal-like  0.000015      6.005298                   SVC\n",
      "16    Accuracy        HER2+  0.001445      3.981053                   SVC\n",
      "17      Recall        HER2+  0.004785      3.340489                   SVC\n",
      "18  Precission        HER2+  0.011749      2.936016                   SVC\n",
      "19    F1 Score        HER2+  0.000476      4.451270                   SVC\n"
     ]
    }
   ],
   "source": [
    "ModelPerformanceComparison(avg_svc_cm_report, 'SVC', avg_dt_cm_report, 'DT')"
   ]
  },
  {
   "cell_type": "code",
   "execution_count": 111,
   "id": "f01a215a",
   "metadata": {},
   "outputs": [
    {
     "name": "stdout",
     "output_type": "stream",
     "text": [
      "Comparing MLR and DT:\n",
      "\n",
      "    Parameters  Cancer Type   P value  T Statistics Best Performing Model\n",
      "0     Accuracy    Luminal B  0.000820      4.448793                   MLR\n",
      "1       Recall    Luminal B  0.001599      3.711127                   MLR\n",
      "2   Precission    Luminal B  0.001342      4.236781                   MLR\n",
      "3     F1 Score    Luminal B  0.000274      4.806676                   MLR\n",
      "4     Accuracy    Luminal A  0.000305      5.048005                   MLR\n",
      "5       Recall    Luminal A  0.000025      6.789029                   MLR\n",
      "6   Precission    Luminal A  0.012510      2.890877                   MLR\n",
      "7     F1 Score    Luminal A  0.000191      5.401383                   MLR\n",
      "8     Accuracy  Normal-like  0.000686      4.221585                   MLR\n",
      "9       Recall  Normal-like  0.033433      2.309401                   MLR\n",
      "10  Precission  Normal-like  0.004140      3.357076                   MLR\n",
      "11    F1 Score  Normal-like  0.010507      2.882076                   MLR\n",
      "12    Accuracy   Basal-like  0.000060      5.266852                   MLR\n",
      "13      Recall   Basal-like  0.006189      3.176588                   MLR\n",
      "14  Precission   Basal-like  0.002540      3.504801                   MLR\n",
      "15    F1 Score   Basal-like  0.000061      5.195070                   MLR\n",
      "16    Accuracy        HER2+  0.002185      3.762358                   MLR\n",
      "17      Recall        HER2+  0.004785      3.340489                   MLR\n",
      "18  Precission        HER2+  0.020799      2.617715                   MLR\n",
      "19    F1 Score        HER2+  0.000701      4.259913                   MLR\n"
     ]
    }
   ],
   "source": [
    "ModelPerformanceComparison(avg_mlr_cm_report, 'MLR', avg_dt_cm_report, 'DT')"
   ]
  }
 ],
 "metadata": {
  "kernelspec": {
   "display_name": "Python 3 (ipykernel)",
   "language": "python",
   "name": "python3"
  },
  "language_info": {
   "codemirror_mode": {
    "name": "ipython",
    "version": 3
   },
   "file_extension": ".py",
   "mimetype": "text/x-python",
   "name": "python",
   "nbconvert_exporter": "python",
   "pygments_lexer": "ipython3",
   "version": "3.10.1"
  }
 },
 "nbformat": 4,
 "nbformat_minor": 5
}
